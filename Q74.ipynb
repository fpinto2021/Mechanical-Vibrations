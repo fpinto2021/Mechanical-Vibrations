{
  "nbformat": 4,
  "nbformat_minor": 0,
  "metadata": {
    "colab": {
      "provenance": [],
      "authorship_tag": "ABX9TyMth0/XAVfbw5wJm3m1Y2xp",
      "include_colab_link": true
    },
    "kernelspec": {
      "name": "python3",
      "display_name": "Python 3"
    },
    "language_info": {
      "name": "python"
    }
  },
  "cells": [
    {
      "cell_type": "markdown",
      "metadata": {
        "id": "view-in-github",
        "colab_type": "text"
      },
      "source": [
        "<a href=\"https://colab.research.google.com/github/fpinto2021/Mechanical-Vibrations/blob/main/Q74.ipynb\" target=\"_parent\"><img src=\"https://colab.research.google.com/assets/colab-badge.svg\" alt=\"Open In Colab\"/></a>"
      ]
    },
    {
      "cell_type": "markdown",
      "source": [],
      "metadata": {
        "id": "Xf5hjPf8P-uJ"
      }
    },
    {
      "cell_type": "code",
      "execution_count": 4,
      "metadata": {
        "colab": {
          "base_uri": "https://localhost:8080/"
        },
        "id": "zXozpSnREiBx",
        "outputId": "a0ff74d1-a671-475e-fdb7-9b63498fc576"
      },
      "outputs": [
        {
          "output_type": "execute_result",
          "data": {
            "text/plain": [
              "{A1: -Q*cos(L*lambda)/(2*A*omega_D**2*rho*sin(L*lambda)) + Q/(2*A*omega_D**2*rho*sin(L*lambda)),\n",
              " A3: -Q*cosh(L*lambda)/(2*A*omega_D**2*rho*sinh(L*lambda)) + Q/(2*A*omega_D**2*rho*sinh(L*lambda))}"
            ]
          },
          "metadata": {},
          "execution_count": 4
        }
      ],
      "source": [
        "import sympy as sp\n",
        "\n",
        "# Defining the symbols\n",
        "A1, A3, Q, rho, A, omega_D, lambda_, L = sp.symbols('A1 A3 Q rho A omega_D lambda L')\n",
        "\n",
        "# Defining the equations\n",
        "eq1 = A1 * sp.sin(lambda_ * L) + (Q / (2 * rho * A * omega_D**2)) * sp.cos(lambda_ * L) + \\\n",
        "      A3 * sp.sinh(lambda_ * L) + (Q / (2 * rho * A * omega_D**2)) * sp.cosh(lambda_ * L) - \\\n",
        "      (Q / (rho * A * omega_D**2))\n",
        "\n",
        "eq2 = -A1 * lambda_**2 * sp.sin(lambda_ * L) - (Q / (2 * rho * A * omega_D**2)) * lambda_**2 * sp.cos(lambda_ * L) + \\\n",
        "      A3 * lambda_**2 * sp.sinh(lambda_ * L) + (Q / (2 * rho * A * omega_D**2)) * lambda_**2 * sp.cosh(lambda_ * L)\n",
        "\n",
        "# Solving\n",
        "solutions = sp.solve((eq1, eq2), (A1, A3))\n",
        "\n",
        "# Displaying results\n",
        "solutions"
      ]
    }
  ]
}